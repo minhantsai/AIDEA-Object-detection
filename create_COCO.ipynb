{
 "cells": [
  {
   "cell_type": "code",
   "execution_count": 1,
   "metadata": {},
   "outputs": [],
   "source": [
    "import pandas as pd\n",
    "import numpy as np\n",
    "import json\n",
    "import datetime"
   ]
  },
  {
   "cell_type": "code",
   "execution_count": 2,
   "metadata": {},
   "outputs": [
    {
     "data": {
      "text/html": [
       "<div>\n",
       "<style scoped>\n",
       "    .dataframe tbody tr th:only-of-type {\n",
       "        vertical-align: middle;\n",
       "    }\n",
       "\n",
       "    .dataframe tbody tr th {\n",
       "        vertical-align: top;\n",
       "    }\n",
       "\n",
       "    .dataframe thead th {\n",
       "        text-align: right;\n",
       "    }\n",
       "</style>\n",
       "<table border=\"1\" class=\"dataframe\">\n",
       "  <thead>\n",
       "    <tr style=\"text-align: right;\">\n",
       "      <th></th>\n",
       "      <th>filename</th>\n",
       "      <th>labels</th>\n",
       "      <th>boxes</th>\n",
       "      <th>img_height</th>\n",
       "      <th>img_width</th>\n",
       "    </tr>\n",
       "  </thead>\n",
       "  <tbody>\n",
       "    <tr>\n",
       "      <th>0</th>\n",
       "      <td>All/FILE2191_02.mp4/FILE2191_02.mp4_00991.jpg</td>\n",
       "      <td>[vehicle, pedestrian, scooter, vehicle, vehicl...</td>\n",
       "      <td>[[0, 578, 313, 991], [717, 339, 739, 394], [20...</td>\n",
       "      <td>1080</td>\n",
       "      <td>1920</td>\n",
       "    </tr>\n",
       "    <tr>\n",
       "      <th>1</th>\n",
       "      <td>All/FILE2191_02.mp4/FILE2191_02.mp4_00577.jpg</td>\n",
       "      <td>[scooter, vehicle, vehicle, vehicle, vehicle, ...</td>\n",
       "      <td>[[1679, 569, 1859, 870], [0, 578, 313, 991], [...</td>\n",
       "      <td>1080</td>\n",
       "      <td>1920</td>\n",
       "    </tr>\n",
       "    <tr>\n",
       "      <th>2</th>\n",
       "      <td>All/FILE2191_02.mp4/FILE2191_02.mp4_00088.jpg</td>\n",
       "      <td>[scooter, vehicle, pedestrian, vehicle, vehicl...</td>\n",
       "      <td>[[195, 614, 269, 671], [0, 578, 313, 991], [10...</td>\n",
       "      <td>1080</td>\n",
       "      <td>1920</td>\n",
       "    </tr>\n",
       "    <tr>\n",
       "      <th>3</th>\n",
       "      <td>All/FILE2191_02.mp4/FILE2191_02.mp4_00815.jpg</td>\n",
       "      <td>[vehicle, pedestrian, vehicle, vehicle, vehicl...</td>\n",
       "      <td>[[0, 578, 313, 991], [419, 349, 441, 403], [13...</td>\n",
       "      <td>1080</td>\n",
       "      <td>1920</td>\n",
       "    </tr>\n",
       "    <tr>\n",
       "      <th>4</th>\n",
       "      <td>All/FILE2191_02.mp4/FILE2191_02.mp4_01277.jpg</td>\n",
       "      <td>[vehicle, pedestrian, vehicle, vehicle, pedest...</td>\n",
       "      <td>[[0, 578, 313, 991], [1228, 347, 1249, 401], [...</td>\n",
       "      <td>1080</td>\n",
       "      <td>1920</td>\n",
       "    </tr>\n",
       "  </tbody>\n",
       "</table>\n",
       "</div>"
      ],
      "text/plain": [
       "                                        filename  \\\n",
       "0  All/FILE2191_02.mp4/FILE2191_02.mp4_00991.jpg   \n",
       "1  All/FILE2191_02.mp4/FILE2191_02.mp4_00577.jpg   \n",
       "2  All/FILE2191_02.mp4/FILE2191_02.mp4_00088.jpg   \n",
       "3  All/FILE2191_02.mp4/FILE2191_02.mp4_00815.jpg   \n",
       "4  All/FILE2191_02.mp4/FILE2191_02.mp4_01277.jpg   \n",
       "\n",
       "                                              labels  \\\n",
       "0  [vehicle, pedestrian, scooter, vehicle, vehicl...   \n",
       "1  [scooter, vehicle, vehicle, vehicle, vehicle, ...   \n",
       "2  [scooter, vehicle, pedestrian, vehicle, vehicl...   \n",
       "3  [vehicle, pedestrian, vehicle, vehicle, vehicl...   \n",
       "4  [vehicle, pedestrian, vehicle, vehicle, pedest...   \n",
       "\n",
       "                                               boxes  img_height  img_width  \n",
       "0  [[0, 578, 313, 991], [717, 339, 739, 394], [20...        1080       1920  \n",
       "1  [[1679, 569, 1859, 870], [0, 578, 313, 991], [...        1080       1920  \n",
       "2  [[195, 614, 269, 671], [0, 578, 313, 991], [10...        1080       1920  \n",
       "3  [[0, 578, 313, 991], [419, 349, 441, 403], [13...        1080       1920  \n",
       "4  [[0, 578, 313, 991], [1228, 347, 1249, 401], [...        1080       1920  "
      ]
     },
     "execution_count": 2,
     "metadata": {},
     "output_type": "execute_result"
    }
   ],
   "source": [
    "df = pd.read_json('Matt/data.json')\n",
    "df.head()"
   ]
  },
  {
   "cell_type": "code",
   "execution_count": 3,
   "metadata": {},
   "outputs": [],
   "source": [
    "info = {\n",
    "    \"description\":\"This is 1.0 version of the AIDEA competition dataset in COCO format create by Team MAKOBY.\",\n",
    "    \"url\":\"https://aidea-web.tw/\",\n",
    "    \"version\":\"1.0\",\n",
    "    \"year\":2020,\n",
    "    \"contributor\":\"MHTsai, member of MAKOBY.\",\n",
    "    \"date_created\": datetime.datetime(2021, 2, 21),\n",
    "}\n",
    "\n",
    "licenses = [{\n",
    "    \"id\":1,    \n",
    "    \"name\":\"Free License\",\n",
    "    \"url\":\"https://aidea-web.tw/topic/35e0ddb9-d54b-40b7-b445-67d627890454\",\n",
    "}]\n",
    "\n",
    "image_proto = {\n",
    "    \"file_name\":\"COCO_val2014_000000391895.jpg\",\n",
    "    \"id\":391895,\n",
    "    \"license\":1,\n",
    "    \"height\":1080,\n",
    "    \"width\":1920,\n",
    "    \"flickr_url\":\"\",\n",
    "    \"coco_url\":\"\",\n",
    "    \"date_captured\": datetime.datetime(2021, 2, 21),\n",
    "}\n",
    "\n",
    "annotation_proto = {\n",
    "    \"id\": int,\n",
    "    \"image_id\": int,\n",
    "    \"category_id\": int,\n",
    "    \"area\": float,\n",
    "    \"bbox\": \"[x,y,width,height]\",\n",
    "    \"iscrowd\": 0,\n",
    "    \"segmentation\": [],\n",
    "}\n",
    "\n",
    "category_proto = {\n",
    "    \"id\": int,\n",
    "    \"name\": str,\n",
    "    \"supercategory\": \"AIDEA\",\n",
    "}"
   ]
  },
  {
   "cell_type": "code",
   "execution_count": 4,
   "metadata": {},
   "outputs": [
    {
     "name": "stdout",
     "output_type": "stream",
     "text": [
      "[{'id': 1, 'name': 'vehicle', 'supercategory': 'AIDEA'}, {'id': 2, 'name': 'pedestrian', 'supercategory': 'AIDEA'}, {'id': 3, 'name': 'scooter', 'supercategory': 'AIDEA'}, {'id': 4, 'name': 'bicycle', 'supercategory': 'AIDEA'}]\n"
     ]
    }
   ],
   "source": [
    "## category\n",
    "label = ['vehicle','pedestrian','scooter','bicycle']\n",
    "label_dict = {\n",
    "    'vehicle': 1,\n",
    "    'pedestrian': 2,\n",
    "    'scooter': 3,\n",
    "    'bicycle': 4,\n",
    "}\n",
    "\n",
    "categories = list()\n",
    "for idx in range(1,5):\n",
    "    category = category_proto.copy()\n",
    "    category['id'] = idx\n",
    "    category['name'] = label[idx-1]\n",
    "    categories.append(category)\n",
    "print(categories)"
   ]
  },
  {
   "cell_type": "code",
   "execution_count": 5,
   "metadata": {},
   "outputs": [],
   "source": [
    "## annotations and images\n",
    "images, annotations = list(), list()\n",
    "image_id = 1\n",
    "annotation_id = 1\n",
    "\n",
    "for index, row in df.iterrows():\n",
    "    # for image \n",
    "    image = image_proto.copy()\n",
    "    image['file_name'] = row['filename']\n",
    "    image['id'] = image_id\n",
    "    \n",
    "    \n",
    "    # for annotation\n",
    "    VOC_bboxes = np.array(df.iloc[index]['boxes']).astype(np.float)\n",
    "    bboxes = list(map(lambda s: [s[0],s[1],s[2]-s[0],s[3]-s[1]] , VOC_bboxes))\n",
    "    labels = list(map(lambda s: label_dict[s], df.iloc[index]['labels']))\n",
    "    for bbox, label in zip(bboxes,labels):\n",
    "        annotation = annotation_proto.copy()\n",
    "        annotation['bbox'] = bbox\n",
    "        annotation['category_id'] = label\n",
    "        annotation['area'] = bbox[2]*bbox[3]\n",
    "        annotation['id'] = annotation_id\n",
    "        annotation['image_id'] = image_id\n",
    "        annotation_id = annotation_id + 1\n",
    "        annotations.append(annotation)\n",
    "    \n",
    "    image_id = image_id + 1\n",
    "    images.append(image)"
   ]
  },
  {
   "cell_type": "code",
   "execution_count": 6,
   "metadata": {},
   "outputs": [],
   "source": [
    "## final\n",
    "AIDEA_COCO = {\n",
    "    \"info\": info,\n",
    "    \"liceses\": licenses,\n",
    "    \"categories\": categories,\n",
    "    \"images\": images,\n",
    "    \"annotations\": annotations\n",
    "}\n",
    "\n",
    "def myconverter(o):\n",
    "    if isinstance(o, datetime.datetime):\n",
    "        return o.__str__()\n",
    "\n",
    "with open('./Matt/COCO_data.json', 'w') as fp:\n",
    "    json.dump(AIDEA_COCO, fp, default = myconverter)"
   ]
  },
  {
   "cell_type": "markdown",
   "metadata": {},
   "source": [
    "## coco api"
   ]
  },
  {
   "cell_type": "code",
   "execution_count": 20,
   "metadata": {},
   "outputs": [],
   "source": [
    "from pycocotools.coco import COCO\n",
    "import random\n",
    "import skimage.io as io\n",
    "import matplotlib.pyplot as plt"
   ]
  },
  {
   "cell_type": "code",
   "execution_count": 8,
   "metadata": {},
   "outputs": [
    {
     "name": "stdout",
     "output_type": "stream",
     "text": [
      "loading annotations into memory...\n",
      "Done (t=3.63s)\n",
      "creating index...\n",
      "index created!\n"
     ]
    }
   ],
   "source": [
    "coco=COCO('./Matt/COCO_data.json')"
   ]
  },
  {
   "cell_type": "code",
   "execution_count": 9,
   "metadata": {},
   "outputs": [
    {
     "name": "stdout",
     "output_type": "stream",
     "text": [
      "COCO categories: \n",
      "vehicle pedestrian scooter bicycle\n",
      "\n",
      "COCO supercategories: \n",
      "AIDEA\n"
     ]
    }
   ],
   "source": [
    "\n",
    "# display COCO categories and supercategories\n",
    "cats = coco.loadCats(coco.getCatIds())\n",
    "nms=[cat['name'] for cat in cats]\n",
    "print('COCO categories: \\n{}\\n'.format(' '.join(nms)))\n",
    "\n",
    "nms = set([cat['supercategory'] for cat in cats])\n",
    "print('COCO supercategories: \\n{}'.format(' '.join(nms)))"
   ]
  },
  {
   "cell_type": "code",
   "execution_count": 35,
   "metadata": {},
   "outputs": [],
   "source": [
    "catIds = coco.getCatIds(catNms=['pedestrian']);\n",
    "imgIds = coco.getImgIds(catIds=catIds);\n",
    "img = coco.loadImgs(imgIds[np.random.randint(0,len(imgIds))])[0]\n",
    "AnnIds = coco.getAnnIds(imgIds = img['id'])\n",
    "annot = coco.loadAnns(AnnIds)"
   ]
  },
  {
   "cell_type": "code",
   "execution_count": 36,
   "metadata": {},
   "outputs": [
    {
     "data": {
      "text/plain": [
       "{'file_name': 'All/Fog_02_03.mp4/Fog_02_03.mp4_00246.jpg',\n",
       " 'id': 59093,\n",
       " 'license': 1,\n",
       " 'height': 1080,\n",
       " 'width': 1920,\n",
       " 'flickr_url': '',\n",
       " 'coco_url': '',\n",
       " 'date_captured': '2021-02-21 00:00:00'}"
      ]
     },
     "execution_count": 36,
     "metadata": {},
     "output_type": "execute_result"
    }
   ],
   "source": [
    "img"
   ]
  },
  {
   "cell_type": "code",
   "execution_count": 37,
   "metadata": {},
   "outputs": [
    {
     "data": {
      "text/plain": [
       "[{'id': 509795,\n",
       "  'image_id': 59093,\n",
       "  'category_id': 2,\n",
       "  'area': 9636.0,\n",
       "  'bbox': [484.0, 607.0, 73.0, 132.0],\n",
       "  'iscrowd': 0,\n",
       "  'segmentation': []},\n",
       " {'id': 509796,\n",
       "  'image_id': 59093,\n",
       "  'category_id': 2,\n",
       "  'area': 11937.0,\n",
       "  'bbox': [344.0, 631.0, 69.0, 173.0],\n",
       "  'iscrowd': 0,\n",
       "  'segmentation': []},\n",
       " {'id': 509797,\n",
       "  'image_id': 59093,\n",
       "  'category_id': 1,\n",
       "  'area': 178488.0,\n",
       "  'bbox': [0.0, 631.0, 444.0, 402.0],\n",
       "  'iscrowd': 0,\n",
       "  'segmentation': []}]"
      ]
     },
     "execution_count": 37,
     "metadata": {},
     "output_type": "execute_result"
    }
   ],
   "source": [
    "annot"
   ]
  },
  {
   "cell_type": "code",
   "execution_count": 38,
   "metadata": {},
   "outputs": [
    {
     "data": {
      "image/png": "[encoded data removed]",
      "text/plain": [
       "<Figure size 432x288 with 1 Axes>"
      ]
     },
     "metadata": {
      "needs_background": "light"
     },
     "output_type": "display_data"
    }
   ],
   "source": [
    "I = io.imread('./ivslab_train/JPEGImages/'+img['file_name'])\n",
    "plt.axis('off')\n",
    "plt.imshow(I)\n",
    "plt.show()"
   ]
  },
  {
   "cell_type": "code",
   "execution_count": 30,
   "metadata": {},
   "outputs": [
    {
     "data": {
      "text/plain": [
       "[3, 4]"
      ]
     },
     "execution_count": 30,
     "metadata": {},
     "output_type": "execute_result"
    }
   ],
   "source": [
    "catIds"
   ]
  },
  {
   "cell_type": "code",
   "execution_count": 40,
   "metadata": {},
   "outputs": [
    {
     "name": "stdout",
     "output_type": "stream",
     "text": [
      "loading annotations into memory...\n",
      "Done (t=2.66s)\n",
      "creating index...\n",
      "index created!\n"
     ]
    }
   ],
   "source": [
    "import torchvision.datasets as dset\n",
    "import torchvision.transforms as trns\n",
    "\n",
    "# create mscoco detection train dataset\n",
    "det_train = dset.CocoDetection(root='./ivslab_train/JPEGImages/',\n",
    "                               annFile='./Matt/COCO_data.json',\n",
    "                               transform=trns.ToTensor())"
   ]
  },
  {
   "cell_type": "code",
   "execution_count": 41,
   "metadata": {},
   "outputs": [
    {
     "data": {
      "text/plain": [
       "Dataset CocoDetection\n",
       "    Number of datapoints: 89002\n",
       "    Root location: ./ivslab_train/JPEGImages/\n",
       "    StandardTransform\n",
       "Transform: ToTensor()"
      ]
     },
     "execution_count": 41,
     "metadata": {},
     "output_type": "execute_result"
    }
   ],
   "source": [
    "det_train"
   ]
  },
  {
   "cell_type": "code",
   "execution_count": null,
   "metadata": {},
   "outputs": [],
   "source": []
  }
 ],
 "metadata": {
  "kernelspec": {
   "display_name": "Python 3",
   "language": "python",
   "name": "python3"
  },
  "language_info": {
   "codemirror_mode": {
    "name": "ipython",
    "version": 3
   },
   "file_extension": ".py",
   "mimetype": "text/x-python",
   "name": "python",
   "nbconvert_exporter": "python",
   "pygments_lexer": "ipython3",
   "version": "3.6.9"
  }
 },
 "nbformat": 4,
 "nbformat_minor": 4
}
