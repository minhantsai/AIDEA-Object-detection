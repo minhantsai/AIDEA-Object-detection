{
 "cells": [
  {
   "cell_type": "code",
   "execution_count": 6,
   "metadata": {},
   "outputs": [],
   "source": [
    "from glob import glob\n",
    "import xml.etree.ElementTree as XET\n",
    "import pandas as pd\n",
    "import cv2"
   ]
  },
  {
   "cell_type": "code",
   "execution_count": 2,
   "metadata": {},
   "outputs": [
    {
     "name": "stdout",
     "output_type": "stream",
     "text": [
      "89002\n"
     ]
    }
   ],
   "source": [
    "pathname = '../ivslab_train/Annotations/All/**/*.xml'\n",
    "XMLS = glob(pathname, recursive=False)\n",
    "print(len(XMLS))"
   ]
  },
  {
   "cell_type": "code",
   "execution_count": 3,
   "metadata": {},
   "outputs": [],
   "source": [
    "demo = XMLS[0]\n",
    "tree = XET.parse(demo)\n",
    "root = tree.getroot()  "
   ]
  },
  {
   "cell_type": "code",
   "execution_count": 4,
   "metadata": {},
   "outputs": [],
   "source": [
    "label_dict = {'vehicle':0, 'scooter':1, 'bicycle':2, 'pedestrian':3 }"
   ]
  },
  {
   "cell_type": "code",
   "execution_count": 7,
   "metadata": {},
   "outputs": [
    {
     "data": {
      "text/plain": [
       "{'filename': 'All/FILE2191_02.mp4/FILE2191_02.mp4_00991.jpg',\n",
       " 'labels': ['vehicle',\n",
       "  'pedestrian',\n",
       "  'scooter',\n",
       "  'vehicle',\n",
       "  'vehicle',\n",
       "  'pedestrian',\n",
       "  'vehicle',\n",
       "  'pedestrian',\n",
       "  'vehicle'],\n",
       " 'boxes': [[0, 578, 313, 991],\n",
       "  [717, 339, 739, 394],\n",
       "  [207, 614, 270, 662],\n",
       "  [1300, 572, 1758, 892],\n",
       "  [1155, 616, 1369, 770],\n",
       "  [411, 346, 431, 403],\n",
       "  [255, 561, 687, 868],\n",
       "  [1070, 329, 1094, 392],\n",
       "  [644, 554, 1218, 1014]],\n",
       " 'img_height': 1080,\n",
       " 'img_width': 1920}"
      ]
     },
     "execution_count": 7,
     "metadata": {},
     "output_type": "execute_result"
    }
   ],
   "source": [
    "def parse_rec(filename):\n",
    "    \"\"\" Parse a PASCAL VOC xml file \"\"\"\n",
    "    tree = XET.parse(filename)\n",
    "    objects = {}\n",
    "    filename = tree.find('object').find('filename').text\n",
    "    objects['filename'] = filename\n",
    "    filename = '../ivslab_train/JPEGImages/' + filename\n",
    "    img = cv2.imread(filename)\n",
    "    \n",
    "    labels,bboxes = list(),list()\n",
    "    \n",
    "    for obj in tree.findall('object'):\n",
    "\n",
    "        #obj_struct['name'] = label_dict[obj.find('name').text]\n",
    "        labels.append(obj.find('name').text)\n",
    "        #labels.append(label_dict[obj.find('name').text])\n",
    "        bbox = obj.find('bndbox')\n",
    "        bboxes.append([int(bbox.find('xmin').text),\n",
    "                        int(bbox.find('ymin').text),\n",
    "                        int(bbox.find('xmax').text),\n",
    "                        int(bbox.find('ymax').text)])\n",
    "    objects['labels'] = labels\n",
    "    objects['boxes'] = bboxes\n",
    "    objects['img_height'] = img.shape[0]\n",
    "    objects['img_width'] = img.shape[1]\n",
    "\n",
    "    return objects \n",
    "parse_rec(demo)"
   ]
  },
  {
   "cell_type": "code",
   "execution_count": 8,
   "metadata": {},
   "outputs": [
    {
     "ename": "FileNotFoundError",
     "evalue": "[Errno 2] No such file or directory: './Matt/data.json'",
     "output_type": "error",
     "traceback": [
      "\u001b[0;31m---------------------------------------------------------------------------\u001b[0m",
      "\u001b[0;31mFileNotFoundError\u001b[0m                         Traceback (most recent call last)",
      "\u001b[0;32m<ipython-input-8-9ad8d5da33ec>\u001b[0m in \u001b[0;36m<module>\u001b[0;34m\u001b[0m\n\u001b[1;32m      5\u001b[0m \u001b[0;32mimport\u001b[0m \u001b[0mjson\u001b[0m\u001b[0;34m\u001b[0m\u001b[0;34m\u001b[0m\u001b[0m\n\u001b[1;32m      6\u001b[0m \u001b[0;34m\u001b[0m\u001b[0m\n\u001b[0;32m----> 7\u001b[0;31m \u001b[0;32mwith\u001b[0m \u001b[0mopen\u001b[0m\u001b[0;34m(\u001b[0m\u001b[0;34m'./Matt/data.json'\u001b[0m\u001b[0;34m,\u001b[0m \u001b[0;34m'w'\u001b[0m\u001b[0;34m)\u001b[0m \u001b[0;32mas\u001b[0m \u001b[0mfp\u001b[0m\u001b[0;34m:\u001b[0m\u001b[0;34m\u001b[0m\u001b[0;34m\u001b[0m\u001b[0m\n\u001b[0m\u001b[1;32m      8\u001b[0m     \u001b[0mjson\u001b[0m\u001b[0;34m.\u001b[0m\u001b[0mdump\u001b[0m\u001b[0;34m(\u001b[0m\u001b[0mtrain\u001b[0m\u001b[0;34m,\u001b[0m \u001b[0mfp\u001b[0m\u001b[0;34m)\u001b[0m\u001b[0;34m\u001b[0m\u001b[0;34m\u001b[0m\u001b[0m\n",
      "\u001b[0;31mFileNotFoundError\u001b[0m: [Errno 2] No such file or directory: './Matt/data.json'"
     ]
    }
   ],
   "source": [
    "train = list()\n",
    "for XML in XMLS:\n",
    "    train.append(parse_rec(XML))\n",
    "    \n",
    "import json\n",
    "\n"
   ]
  },
  {
   "cell_type": "code",
   "execution_count": 10,
   "metadata": {},
   "outputs": [],
   "source": [
    "with open('./data.json', 'w') as fp:\n",
    "    json.dump(train, fp)"
   ]
  },
  {
   "cell_type": "code",
   "execution_count": null,
   "metadata": {},
   "outputs": [],
   "source": [
    "with open('data.json', 'r') as fp:\n",
    "    load = json.load(fp)"
   ]
  },
  {
   "cell_type": "code",
   "execution_count": null,
   "metadata": {},
   "outputs": [],
   "source": [
    "load[0]['boxes'][0][0]"
   ]
  },
  {
   "cell_type": "code",
   "execution_count": null,
   "metadata": {},
   "outputs": [],
   "source": [
    "# \n",
    "pd.DataFrame.from_dict(parse_rec(demo))"
   ]
  },
  {
   "cell_type": "code",
   "execution_count": null,
   "metadata": {},
   "outputs": [],
   "source": [
    "name = list()\n",
    "for XML in XMLS:\n",
    "    tree = XET.parse(XML)\n",
    "    root = tree.getroot()\n",
    "    objs = root.findall('object')\n",
    "    name.extend(list(map(lambda s:s.find('name').text, objs)))"
   ]
  },
  {
   "cell_type": "code",
   "execution_count": null,
   "metadata": {},
   "outputs": [],
   "source": [
    "from collections import Counter\n",
    "Counter(name)"
   ]
  },
  {
   "cell_type": "markdown",
   "metadata": {},
   "source": [
    "## demo"
   ]
  },
  {
   "cell_type": "code",
   "execution_count": null,
   "metadata": {},
   "outputs": [],
   "source": [
    "import cv2\n",
    "import matplotlib.pyplot as plt\n",
    "import matplotlib.patches as patches\n",
    "from PIL import Image\n",
    "import cv2\n",
    "import numpy as np"
   ]
  },
  {
   "cell_type": "code",
   "execution_count": null,
   "metadata": {},
   "outputs": [],
   "source": [
    "def plot_result(filename, boxes) :\n",
    "    filename = './ivslab_train/JPEGImages/' + filename\n",
    "    img = cv2.imread(filename)\n",
    "    #img = img/255.0\n",
    "\n",
    "    fig, ax = plt.subplots(1, 1, figsize=(8, 4))\n",
    "\n",
    "    for box in boxes:\n",
    "        box = box.astype(np.int32)\n",
    "        rect = patches.Rectangle((box[0],box[1]),box[2]-box[0],box[3]-box[1],\n",
    "                                    linewidth=1,edgecolor='r',facecolor='none')\n",
    "        ax.add_patch(rect)\n",
    "\n",
    "    ax.set_axis_off()\n",
    "    ax.imshow(img)"
   ]
  },
  {
   "cell_type": "code",
   "execution_count": null,
   "metadata": {},
   "outputs": [],
   "source": [
    "boxes = np.array([[0, 578, 313, 991]])\n",
    "filename = 'All/FILE2191_02.mp4/FILE2191_02.mp4_00991.jpg'\n",
    "plot_result(filename,boxes)"
   ]
  },
  {
   "cell_type": "code",
   "execution_count": null,
   "metadata": {},
   "outputs": [],
   "source": [
    "cv2.imread(filename)"
   ]
  }
 ],
 "metadata": {
  "kernelspec": {
   "display_name": "Python 3",
   "language": "python",
   "name": "python3"
  },
  "language_info": {
   "codemirror_mode": {
    "name": "ipython",
    "version": 3
   },
   "file_extension": ".py",
   "mimetype": "text/x-python",
   "name": "python",
   "nbconvert_exporter": "python",
   "pygments_lexer": "ipython3",
   "version": "3.6.9"
  }
 },
 "nbformat": 4,
 "nbformat_minor": 4
}
